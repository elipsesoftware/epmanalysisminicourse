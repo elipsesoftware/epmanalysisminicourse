{
 "cells": [
  {
   "cell_type": "code",
   "execution_count": null,
   "metadata": {
    "scrolled": false,
    "slideshow": {
     "slide_type": "skip"
    }
   },
   "outputs": [],
   "source": [
    "# Configurações para a apresentação de slides com o Jupyter Notebook\n",
    "# Instalar temas do Jupyter:\n",
    "# >> pip install jupyterthemes\n",
    "# Listar temas disponíveis:\n",
    "# >> jt -l\n",
    "# Selecionar o tema para a apresentação:\n",
    "# >> jt -t monokai\n",
    "# Retornar ao tema original:\n",
    "# >> jt -r\n",
    "\n",
    "from notebook.services.config import ConfigManager\n",
    "cm = ConfigManager()\n",
    "cm.update('livereveal', {\n",
    "    \"start_slideshow_at\": \"selected\",\n",
    "    \"transition\": \"zoom\",\n",
    "    \"height\": 768,\n",
    "    \"width\": 1024,\n",
    "    \"theme\": \"simple\",\n",
    "    \"scroll\": True,\n",
    "})"
   ]
  },
  {
   "cell_type": "markdown",
   "metadata": {
    "slideshow": {
     "slide_type": "slide"
    }
   },
   "source": [
    "# EPM Web API (Python) - primeiros passos..."
   ]
  },
  {
   "cell_type": "markdown",
   "metadata": {
    "slideshow": {
     "slide_type": "slide"
    }
   },
   "source": [
    "## Operações típicas\n",
    "\n",
    "1. **Estabelecimento de Conexão** (=sessão) com um **EPM Server** (=servidor de dados)\n",
    "2. **Criação** das variáveis de interesse\n",
    "    * definir variáveis de interesse (eventualmente suas propriedades)\n",
    "    * executar criação no ambiente Python da variável de interesse (contraparte do **EPM Server**)\n",
    "3. **Leitura** de valores escalares\n",
    "    * definir variável de interesse\n",
    "    * executar leitura\n",
    "4. **Leitura** de valores históricos\n",
    "    * definir variável de interesse\n",
    "    * definir período de interesse\n",
    "    * definir tipo de agregação (=processamento)\n",
    "    * executar leitura\n",
    "5. **Leitura** de anotações\n",
    "    * definir variável de interesse\n",
    "    * definir período de interesse\n",
    "    * executar leitura\n",
    "6. **Escrita** de valores escalares\n",
    "    * definir variável de interesse\n",
    "    * definir valor, timestamp e qualidade\n",
    "    * executar escrita\n",
    "7. **Escrita** de valores históricos\n",
    "    * definir variável de interesse\n",
    "    * definir vetor de valores, timestamps e qualidades\n",
    "    * executar escrita\n",
    "8. **Escrita** de anotações\n",
    "    * definir variável de interesse\n",
    "    * definir mensagem e timestamp\n",
    "    * executar escrita\n",
    "9. **CRUD** (Create, Read, Update and Delete) de variáveis - não faz parte do escopo deste minicurso\n",
    "10. **Encerramento da Conexão** (=sessão) com um **EPM Server** (=servidor de dados)"
   ]
  },
  {
   "cell_type": "markdown",
   "metadata": {
    "slideshow": {
     "slide_type": "slide"
    }
   },
   "source": [
    "1. **Estabelecimento de Conexão** (=sessão) com um **EPM Server** (=servidor de dados)"
   ]
  },
  {
   "cell_type": "code",
   "execution_count": 1,
   "metadata": {
    "scrolled": false,
    "slideshow": {
     "slide_type": "subslide"
    }
   },
   "outputs": [
    {
     "name": "stdout",
     "output_type": "stream",
     "text": [
      "Módulos importados com sucesso!\n"
     ]
    }
   ],
   "source": [
    "# No ambiente Jupyter - fazer gráfico no próprio ambiente usando a MATPLOTLIB\n",
    "%matplotlib inline\n",
    "\n",
    "# Importação dos princiapais módulos utilizados em análises de dados de processo\n",
    "# Dica:\n",
    "# Sempre procurar tratar as exceções para facilitar a manutenção dos códigos e a utilização por terceiros!\n",
    "try:\n",
    "    import numpy as np\n",
    "    import datetime\n",
    "    import pytz\n",
    "    import matplotlib.pyplot as plt\n",
    "    import pandas as pd\n",
    "    # Importação do módulo para conecão com o EPM Server (via EPM Web Server)\n",
    "    import epmwebapi as epm\n",
    "    print('Módulos importados com sucesso!')\n",
    "except ImportError as error:\n",
    "    print('Erro na importação!')\n",
    "    print(error.__class__.__name__ + ': ' + error.message)\n",
    "except Exception as exception:\n",
    "    print(exception.__class__.__name__ + ': ' + exception.message)"
   ]
  },
  {
   "cell_type": "code",
   "execution_count": 4,
   "metadata": {
    "scrolled": false,
    "slideshow": {
     "slide_type": "subslide"
    }
   },
   "outputs": [
    {
     "name": "stdout",
     "output_type": "stream",
     "text": [
      "EPM user:truser\n",
      "EPM password:········\n",
      "Conexão com http://epmtr.elipse.com.br criada com sucesso para o usuário truser.\n"
     ]
    }
   ],
   "source": [
    "# ATENÇÃO:\n",
    "# Para uso em produção, é recomendado usar variáveis de ambiente para buscar informações de Usuário/Senha.\n",
    "# Para este minicurso será utilizado as funções input e getpass\n",
    "import getpass\n",
    "user = input('EPM user:')\n",
    "password = getpass.getpass(\"EPM password:\")\n",
    "epm_auth = 'http://epmtr.elipse.com.br/auth' # 'http://localhost:44333'\n",
    "epm_web  = 'http://epmtr.elipse.com.br'# 'http://localhost:44332'\n",
    "\n",
    "# Criação de uma conexão informando os endereços do EPM Webserver(Authentication Port e WEB API Port), usuário e senha.\n",
    "try:\n",
    "    epmConn = epm.EpmConnection(epm_auth, epm_web, user, password)\n",
    "    # A forma mais recomendada (fácil) para usar o comando print é com fstring\n",
    "    print(f'Conexão com {epm_web} criada com sucesso para o usuário {user}.')\n",
    "except:\n",
    "    print(f'Falha no estabelecimento da conexão com {epm_web} para o usuário {user}.')"
   ]
  },
  {
   "cell_type": "markdown",
   "metadata": {
    "slideshow": {
     "slide_type": "slide"
    }
   },
   "source": [
    "2. **Criação** das variáveis de interesse"
   ]
  },
  {
   "cell_type": "code",
   "execution_count": 5,
   "metadata": {
    "scrolled": false,
    "slideshow": {
     "slide_type": "subslide"
    }
   },
   "outputs": [
    {
     "name": "stdout",
     "output_type": "stream",
     "text": [
      "Nível do tanque: <epmwebapi.epmdataobject.EpmDataObject object at 0x000002880D00B9E8>\n",
      "Válvula do tanque: <epmwebapi.epmdataobject.EpmDataObject object at 0x000002880D012940>\n"
     ]
    }
   ],
   "source": [
    "# DICA:\n",
    "# Definir uma lista com as variáveis de interesse para facilitar seu uso/reuso\n",
    "bvList = ['LIC101', 'FIC101']\n",
    "bvDic = epmConn.getDataObjects(bvList)\n",
    "bv_LIC101 = bvDic[bvList[0]]\n",
    "bv_FIC101 = bvDic[bvList[1]]\n",
    "print('Nível do tanque: {}'.format(bv_LIC101)) # outra forma de usar o comando print é com o método format\n",
    "print('Válvula do tanque: {}'.format(bv_FIC101))"
   ]
  },
  {
   "cell_type": "markdown",
   "metadata": {
    "slideshow": {
     "slide_type": "subslide"
    }
   },
   "source": [
    "### Dica\n",
    "\n",
    "###### É possível usar filtros para pesquisar as variáveis de interesse e criá-las no ambiente Python.\n",
    "\n",
    "###### *exemplo*: é possível que se busque por todas as variáveis que tenham °C como unidade de medida.\n",
    "\n",
    "###### Exemplos de uso de filtros podem ser vistos no GitHub da Elipse Software:\n",
    "[Elipse Software/epmwebapi/exemplos/Quickstart.ipynb](https://nbviewer.jupyter.org/github/elipsesoftware/epmwebapi/blob/master/exemplos/Quickstart.ipynb)"
   ]
  },
  {
   "cell_type": "markdown",
   "metadata": {
    "slideshow": {
     "slide_type": "subslide"
    }
   },
   "source": [
    "#### Usando as funções *dir* para ver métodos-propriedades e filtro com regex sobre strings para eliminar os métodos-propriedades \"privados\""
   ]
  },
  {
   "cell_type": "code",
   "execution_count": 6,
   "metadata": {
    "scrolled": false,
    "slideshow": {
     "slide_type": "fragment"
    }
   },
   "outputs": [
    {
     "name": "stdout",
     "output_type": "stream",
     "text": [
      "clamping | deleteAnnotations | description | domain | enumProperties | eu | highLimit | historyDelete | historyReadAggregate | historyReadRaw | historyUpdate | lowLimit | name | path | read | readAnnotations | readAttributes | write | writeAnnotation\n"
     ]
    }
   ],
   "source": [
    "import re\n",
    "# DICA: https://regex101.com/\n",
    "regex = re.compile(r'[^\\b_]') # <=> Não iniciar palavra com _\n",
    "all_meth_props = dir(bv_LIC101)\n",
    "meth_props = list(filter(regex.match, all_meth_props))\n",
    "print(*meth_props, sep=\" | \")"
   ]
  },
  {
   "cell_type": "markdown",
   "metadata": {
    "slideshow": {
     "slide_type": "subslide"
    }
   },
   "source": [
    "#### Por padrão, *name* é a única propriedade lida do EPM Server para criação da *Basic Variable* no ambiente Python."
   ]
  },
  {
   "cell_type": "code",
   "execution_count": 7,
   "metadata": {
    "scrolled": false,
    "slideshow": {
     "slide_type": "fragment"
    }
   },
   "outputs": [
    {
     "name": "stdout",
     "output_type": "stream",
     "text": [
      "Variável: LIC101\n",
      "Descrição: None\n",
      "Unidade de Medida (= E.U.): None\n"
     ]
    }
   ],
   "source": [
    "# Por padrão, \"name\" é a única propriedade necessária para instanciar uma Basic Variable\n",
    "print(f'Variável: {bv_LIC101.name}')\n",
    "print(f'Descrição: {bv_LIC101.description }')\n",
    "print(f'Unidade de Medida (= E.U.): {bv_LIC101.eu}')"
   ]
  },
  {
   "cell_type": "markdown",
   "metadata": {
    "slideshow": {
     "slide_type": "subslide"
    }
   },
   "source": [
    "#### Quando for necessário saber o valor destas propriedades, é necessário: (i) criar a variávle no ambiente Python solicitando que estes valores sejam lidos na criação da mesma; (ii) proceder com a leitura destas propriedades sob demanda após a criação da mesma."
   ]
  },
  {
   "cell_type": "code",
   "execution_count": 8,
   "metadata": {
    "scrolled": false,
    "slideshow": {
     "slide_type": "fragment"
    }
   },
   "outputs": [
    {
     "name": "stdout",
     "output_type": "stream",
     "text": [
      "Variável: LIC101\n",
      "Descrição: Nível do tanque\n",
      "Unidade de Medida (= E.U.): {'displayName': 'm', 'description': 'meter'}\n"
     ]
    }
   ],
   "source": [
    "# Exemplo de busca das propriedades da variável bv_LIC101 (previamente criada)\n",
    "bv_LIC101.readAttributes()\n",
    "print(f'Variável: {bv_LIC101.name}')\n",
    "print(f'Descrição: {bv_LIC101.description }')\n",
    "print(f'Unidade de Medida (= E.U.): {bv_LIC101.eu}')"
   ]
  },
  {
   "cell_type": "markdown",
   "metadata": {
    "slideshow": {
     "slide_type": "slide"
    }
   },
   "source": [
    "3. **Leitura** de valores escalares\n",
    "\n",
    "#### Lê o último valor proveniente da via de tempo real do EPM Server: (i) via *Interface de Comunicação*; (ii) via escrita com o método *write*.\n",
    "\n",
    "#### Valores inseridos na base de dados através: (i) restauração de bkp; (ii) uso do EPM Tag Port (); (iii)  função historyUpdate;  só são acessados através de consultas históricas, como historyRead e historyReadAggregate."
   ]
  },
  {
   "cell_type": "code",
   "execution_count": 9,
   "metadata": {
    "scrolled": false,
    "slideshow": {
     "slide_type": "subslide"
    }
   },
   "outputs": [
    {
     "name": "stdout",
     "output_type": "stream",
     "text": [
      "Último valor recebido pela via de tempo real: 35.50395584106445\n",
      "Último timestamp associado ao valor: 2019-08-01T14:44:01.82-03:00\n",
      "Última qualidade associada ao valor: 0 - 0 corresponde à \"Good\" no Padrão OPC UA\n"
     ]
    }
   ],
   "source": [
    "# Trazendo par ao ambiebte Python uma variável que tem dados provenientes da via de tempo real (rand01)\n",
    "rand01 = epmConn.getDataObjects(['rand01'])['rand01']\n",
    "last_value = rand01.read()\n",
    "print(f'Último valor recebido pela via de tempo real: {last_value.value}')\n",
    "print(f'Último timestamp associado ao valor: {last_value.timestamp}')\n",
    "print(f'Última qualidade associada ao valor: {last_value.statusCode} - 0 corresponde à \"Good\" no Padrão OPC UA')\n",
    "# Nota:\n",
    "# No padrão OPC DA Classic 192 corresponde à qualidade \"Good\""
   ]
  },
  {
   "cell_type": "markdown",
   "metadata": {
    "slideshow": {
     "slide_type": "slide"
    }
   },
   "source": [
    "4. **Leitura** de valores históricos\n",
    "\n",
    "##### Valores brutos (raw) - como foram armazenados\n",
    "##### Agregação - padrão OPC UA\n"
   ]
  },
  {
   "cell_type": "markdown",
   "metadata": {
    "slideshow": {
     "slide_type": "subslide"
    }
   },
   "source": [
    "#### Consulta dos valores \"brutos\" (= raw data)"
   ]
  },
  {
   "cell_type": "code",
   "execution_count": 10,
   "metadata": {
    "scrolled": false,
    "slideshow": {
     "slide_type": "subslide"
    }
   },
   "outputs": [
    {
     "name": "stdout",
     "output_type": "stream",
     "text": [
      "(1.6148503, datetime.datetime(2014, 3, 4, 2, 0, tzinfo=datetime.timezone.utc), 0)\n"
     ]
    },
    {
     "data": {
      "image/png": "[encoded data removed]",
      "text/plain": [
       "<Figure size 1296x720 with 1 Axes>"
      ]
     },
     "metadata": {},
     "output_type": "display_data"
    }
   ],
   "source": [
    "# Consulta dos valores \"brutos\" (= raw data)\n",
    "# Valores \"devem\" ser informados em conforemidade com o Timezone ou em UTC (Coordinated Universal Time)\n",
    "ini_date = datetime.datetime(2014, 3, 4, 2, tzinfo=pytz.utc)\n",
    "end_date = datetime.datetime(2014, 3, 4, 4, tzinfo=pytz.utc)\n",
    "query_period = epm.QueryPeriod(ini_date, end_date)\n",
    "data = bv_LIC101.historyReadRaw(query_period)\n",
    "plt.plot(data['Value'], color='#00e6e6') # plot apenas dos dados\n",
    "plt.xlabel(\"auto-linear\")\n",
    "plt.ylabel(bv_LIC101.name + '[' + bv_LIC101.eu['displayName'] + ']')\n",
    "\n",
    "# Notas extras:\n",
    "# Redimensionando e colorindo a figura posteriormente á sua criação\n",
    "fig = plt.gcf()\n",
    "ax = plt.gca()\n",
    "fig.set_size_inches(18, 10)\n",
    "fig.patch.set_facecolor('#525454')\n",
    "ax.set_facecolor('#323434')\n",
    "#fig.savefig(bv_LIC101.name + '.png', dpi=100) # salvar imagem em arquivo\n",
    "\n",
    "# ATENÇÃO!\n",
    "# Os Timestamps retornados estão sempre em UTC!\n",
    "print(data[0])"
   ]
  },
  {
   "cell_type": "markdown",
   "metadata": {
    "slideshow": {
     "slide_type": "subslide"
    }
   },
   "source": [
    "#### Regras de ouro quando se trabalha com Timestamps\n",
    "\n",
    "* Sempre usar objetos datetime \"offset-aware\" (delta do local em relação ao UTC).\n",
    "* Sempre armazenar datetime em UTC e fazer a conversão do fuso horário apenas ao interagir com usuários.\n",
    "* Sempre usar a norma internacional ISO 8601 como entrada/saída para repersentações de data-hora.\n",
    "\n",
    "##### Exemplos norma ISO 8601\n",
    "\n",
    "* Data: 2019-07-16\n",
    "* Data e horas separados, em UTC: 2019-07-16 21:02Z\n",
    "* Data e horas combinadas, em UTC: 2019-07-16T21:02Z\n",
    "* Data com número da semana: 2019-W29-2\n",
    "* Data ordinal: 2019-197"
   ]
  },
  {
   "cell_type": "code",
   "execution_count": 13,
   "metadata": {
    "scrolled": true,
    "slideshow": {
     "slide_type": "subslide"
    }
   },
   "outputs": [
    {
     "name": "stdout",
     "output_type": "stream",
     "text": [
      "['America/Santarem', 'America/Santiago', 'America/Santo_Domingo', 'America/Sao_Paulo', 'America/Scoresbysund', 'America/Sitka', 'America/St_Barthelemy', 'America/St_Johns', 'America/St_Kitts', 'America/St_Lucia', 'America/St_Thomas', 'America/St_Vincent', 'America/Swift_Current']\n",
      "##################################################\n",
      "Data-hora agora simples, sem informações de Timezone: 2019-08-01 14:45:49.646104\n",
      "Data-hora agora com informações de Timezone:          2019-08-01 17:45:49.646104\n",
      "Localização UTC - Timezone:                           2019-08-01 17:45:49.646104+00:00\n",
      "Localização São Paulo - Timezone:                     2019-08-01 17:45:49.646104-03:00\n",
      "##################################################\n",
      "Timestamp com problemas: (26.743725, datetime.datetime(2014, 3, 4, 2, 6, tzinfo=datetime.timezone.utc), 0)\n",
      "Timestamp OK: (1.6148503, datetime.datetime(2014, 3, 4, 2, 0, tzinfo=datetime.timezone.utc), 0)\n"
     ]
    }
   ],
   "source": [
    "# Nota:\n",
    "# UTC’ is Coordinated Universal Time. It is a successor to, but distinct from, Greenwich Mean Time (GMT) and the various definitions of Universal Time. UTC is now the worldwide standard for regulating clocks and time measurement.\n",
    "# All other timezones are defined relative to UTC, and include offsets like UTC+0800 - hours to add or\n",
    "# subtract from UTC to derive the local time. No daylight saving time occurs in UTC, making it a useful\n",
    "# timezone to perform date arithmetic without worrying about the confusion and ambiguities caused by\n",
    "# daylight saving time transitions, your country changing its timezone, or mobile computers that roam\n",
    "# through multiple timezones.\n",
    "#\n",
    "# ref.: http://pytz.sourceforge.net/\n",
    "#\n",
    "# Verificar os timezones que iniciam por 'America/S'  -> para mostrar Sao_Paulo\n",
    "print(list(filter(lambda s: s.find('America/S')+1, pytz.common_timezones)))\n",
    "print(50 * '#')\n",
    "# ATENÇÃO!\n",
    "# Wrong value returned from offset for timezones in Brazil\n",
    "# https://github.com/sdispater/pendulum/issues/319\n",
    "#\n",
    "tz_sp = pytz.timezone('America/Sao_Paulo')\n",
    "ini_date1 = datetime.datetime(2014, 3, 3, 23, tzinfo=tz_sp)\n",
    "end_date1 = datetime.datetime(2014, 3, 4, 1, tzinfo=tz_sp)\n",
    "query_period1 = epm.QueryPeriod(ini_date1,end_date1)\n",
    "data1 = bv_LIC101.historyReadRaw(query_period1)\n",
    "\n",
    "# Para colocar o OFF-SET manualmente, deve-se primeiro identificá-lo (ou informar manualmente)\n",
    "now_naive = datetime.datetime.now() # Só para ver que existe um método NOW!\n",
    "now_aware = datetime.datetime.utcnow() # Usado para identificar o OFFSET\n",
    "localize = pytz.utc.localize(now_aware) # # Só para ver que existe um método localize!\n",
    "now_sp = now_aware.astimezone(tz_sp) # Usado para identificar o OFFSET\n",
    "print(f'Data-hora agora simples, sem informações de Timezone: {now_naive}')\n",
    "print(f'Data-hora agora com informações de Timezone:          {now_aware}')\n",
    "print(f'Localização UTC - Timezone:                           {localize}')\n",
    "print(f'Localização São Paulo - Timezone:                     {now_sp}')\n",
    "print(50 * '#')\n",
    "tz_offset = now_sp.tzinfo.utcoffset(now_aware).seconds/(3600) - 24 # is_dst=False -> sem horário de verão!\n",
    "tz_ok = datetime.timezone(datetime.timedelta(hours=tz_offset))\n",
    "# tz_ok = -3 # São Paulo (Brasília) - Brasil - sem horário de verão!\n",
    "ini_date2 = datetime.datetime(2014, 3, 3, 23, tzinfo=tz_ok)\n",
    "end_date2 = datetime.datetime(2014, 3, 4, 1, tzinfo=tz_ok)\n",
    "query_period2 = epm.QueryPeriod(ini_date2,end_date2)\n",
    "data_ok = bv_LIC101.historyReadRaw(query_period2)\n",
    "# Imprimindo resultado final!\n",
    "print('Timestamp com problemas: {}'.format(data1[0]))\n",
    "print('Timestamp OK: {}'.format(data_ok[0]))"
   ]
  },
  {
   "cell_type": "code",
   "execution_count": 14,
   "metadata": {
    "slideshow": {
     "slide_type": "subslide"
    }
   },
   "outputs": [
    {
     "name": "stderr",
     "output_type": "stream",
     "text": [
      "C:\\Anaconda3\\lib\\site-packages\\pandas\\plotting\\_converter.py:129: FutureWarning: Using an implicitly registered datetime converter for a matplotlib plotting method. The converter was registered by pandas on import. Future versions of pandas will require you to explicitly register matplotlib converters.\n",
      "\n",
      "To register the converters:\n",
      "\t>>> from pandas.plotting import register_matplotlib_converters\n",
      "\t>>> register_matplotlib_converters()\n",
      "  warnings.warn(msg, FutureWarning)\n"
     ]
    },
    {
     "data": {
      "image/png": "[encoded data removed]",
      "text/plain": [
       "<Figure size 1296x720 with 1 Axes>"
      ]
     },
     "metadata": {},
     "output_type": "display_data"
    }
   ],
   "source": [
    "# Fazendo o gráfico utilizando o eixo dos tempos (abissas) com valores em data-hora local\n",
    "def utc2tz(dt, tz):\n",
    "    \"\"\" Converte date-time em UTC para timezone informada - removendo tzinfo\n",
    "    \"\"\"\n",
    "    return dt.astimezone(tz).replace(tzinfo=None)\n",
    "\n",
    "local_timestamp = list(map(utc2tz, data['Timestamp'], [tz_sp]*len(data)))\n",
    "# Parece haver um erro ao tentar usar datetime- timezone aware, por isso a remoão de tzinfo acima\n",
    "#local_timestamp = data['Timestamp']\n",
    "# C:\\Anaconda3\\lib\\site-packages\\pandas\\plotting\\_converter.py in __init__(self, locator, tz, defaultfmt)\n",
    "# AttributeError: 'datetime.timezone' object has no attribute '_utcoffset'\n",
    "# https://github.com/matplotlib/matplotlib/issues/12310\n",
    "# https://github.com/pandas-dev/pandas/issues/22859\n",
    "# Pandas converter, use to extract date str for axis labels, fails when index is timezone aware.\n",
    "# This happends only if matplotlib>=3.0.0 version is installed. I reported the bug first to\n",
    "# matplotlib (matplotlib/matplotlib#12310), but the close it as they believe that the bug is in pandas\n",
    "# converter.\n",
    "\n",
    "# Criando a figura antes de fazer o plot\n",
    "# matplotlib.pyplot.subplots(nrows=1, ncols=1, sharex=False, sharey=False, squeeze=True, subplot_kw=None, gridspec_kw=None, **fig_kw)\n",
    "fig, ax = plt.subplots()\n",
    "fig.set_size_inches(18, 10)\n",
    "fig.patch.set_facecolor('#525454')\n",
    "ax.plot(local_timestamp, data['Value'], color='#00e6e6')\n",
    "ax.set_xlabel(\"Time\")\n",
    "ax.set_ylabel(bv_LIC101.name + '[' + bv_LIC101.eu['displayName'] + ']')\n",
    "ax.grid(True)\n",
    "ax.set_facecolor('#323434')"
   ]
  },
  {
   "cell_type": "markdown",
   "metadata": {
    "slideshow": {
     "slide_type": "subslide"
    }
   },
   "source": [
    "#### Consulta usando Agregações (= processamento dos dados - server side)"
   ]
  },
  {
   "cell_type": "code",
   "execution_count": 47,
   "metadata": {
    "scrolled": false,
    "slideshow": {
     "slide_type": "subslide"
    }
   },
   "outputs": [
    {
     "data": {
      "image/png": "[encoded data removed]",
      "text/plain": [
       "<Figure size 1296x720 with 1 Axes>"
      ]
     },
     "metadata": {},
     "output_type": "display_data"
    }
   ],
   "source": [
    "# Consulta usando Agregações (= processamento dos dados - server side)\n",
    "# Assim como nas consultas RAW, o s valores \"devem\" ser informados em conforemidade com o Timezone ou em UTC (Coordinated Universal Time)\n",
    "ini_date = datetime.datetime(2014, 3, 4, 2, tzinfo=pytz.utc)\n",
    "end_date = datetime.datetime(2014, 3, 4, 4, tzinfo=pytz.utc)\n",
    "query_period = epm.QueryPeriod(ini_date, end_date)\n",
    "process_interval = datetime.timedelta(minutes=10)\n",
    "# Dica: usar TAB após \"epm.AggregateType.\" para ver métodos disponíveis (intelisense)\n",
    "aggregate_details = epm.AggregateDetails(process_interval, epm.AggregateType.TimeAverage)\n",
    "# Executando a consulta agregada da Média Ponderada ao longo do tempo (a cada 10 minutos)\n",
    "data = bv_LIC101.historyReadAggregate(aggregate_details, query_period)\n",
    "# Mostrando em um gráfico do tipo degrau, tendo o valor anterior como referência (padrão)\n",
    "t = np.arange(0, len(data))*10\n",
    "plt.step(t, data['Value'], where='pre', color='#00e6e6') # where é 'pre' por padrão!\n",
    "plt.xlabel(\"Delta Time (min)\")\n",
    "plt.ylabel(bv_LIC101.name + '[' + bv_LIC101.eu['displayName'] + ']')\n",
    "# Notas extras:\n",
    "# Redimensionando e colorindo a figura posteriormente á sua criação\n",
    "fig = plt.gcf()\n",
    "ax = plt.gca()\n",
    "fig.set_size_inches(18, 10)\n",
    "fig.patch.set_facecolor('#525454')\n",
    "ax.set_facecolor('#323434')\n",
    "#fig.savefig(bv_LIC101.name + '.png', dpi=100) # salvar imagem em arquivo"
   ]
  },
  {
   "cell_type": "markdown",
   "metadata": {
    "slideshow": {
     "slide_type": "slide"
    }
   },
   "source": [
    "5. **Leitura** de anotações"
   ]
  },
  {
   "cell_type": "markdown",
   "metadata": {
    "slideshow": {
     "slide_type": "subslide"
    }
   },
   "source": [
    "#### A anotação consiste de uma mensagem criada por um analista, que está associada à uma variável em um dado *Timestamp*.\n",
    "\n",
    "* Anotação de um TAG é identificada univocamente por uma terna: Mensagem, *Timestamp* e Usuário\n",
    "* Mais de um usuário pode criar uma anotação em um mesmo TAG em um mesmo *Timestamp*\n",
    "* NENHUM usuário pode EDITAR uma anotação feita por outro!!! *(propriedade intelectual)*\n",
    "* APENAS Administradore podem APAGAR anotações (de qualquer usuário)!"
   ]
  },
  {
   "cell_type": "code",
   "execution_count": null,
   "metadata": {
    "slideshow": {
     "slide_type": "subslide"
    }
   },
   "outputs": [],
   "source": [
    "# Todas as anotações do período solicitado são retornadas em uma lista\n",
    "annotations = bv_LIC101.readAnnotations(ini_date,end_date)\n",
    "for annotation in annotations:\n",
    "    print(f'ANOTAÇÃO: {annotation}\\n')"
   ]
  },
  {
   "cell_type": "code",
   "execution_count": null,
   "metadata": {},
   "outputs": [],
   "source": []
  },
  {
   "cell_type": "code",
   "execution_count": null,
   "metadata": {},
   "outputs": [],
   "source": []
  },
  {
   "cell_type": "code",
   "execution_count": null,
   "metadata": {},
   "outputs": [],
   "source": []
  },
  {
   "cell_type": "code",
   "execution_count": null,
   "metadata": {},
   "outputs": [],
   "source": []
  },
  {
   "cell_type": "code",
   "execution_count": null,
   "metadata": {
    "scrolled": false
   },
   "outputs": [],
   "source": []
  },
  {
   "cell_type": "code",
   "execution_count": null,
   "metadata": {
    "scrolled": false
   },
   "outputs": [],
   "source": []
  },
  {
   "cell_type": "markdown",
   "metadata": {
    "slideshow": {
     "slide_type": "subslide"
    }
   },
   "source": [
    "### Dica\n",
    "\n",
    "###### Ver exemplo de uso de anotações no GitHub da Elipse Software: [Elipse Software/epmwebapi/exemplos/sample01.ipynb](https://nbviewer.jupyter.org/github/elipsesoftware/epmwebapi/blob/master/exemplos/sample01.ipynb)"
   ]
  },
  {
   "cell_type": "markdown",
   "metadata": {
    "slideshow": {
     "slide_type": "slide"
    }
   },
   "source": [
    "6. **Escrita** de valores escalares"
   ]
  },
  {
   "cell_type": "code",
   "execution_count": null,
   "metadata": {
    "scrolled": false,
    "slideshow": {
     "slide_type": "subslide"
    }
   },
   "outputs": [],
   "source": []
  },
  {
   "cell_type": "markdown",
   "metadata": {
    "slideshow": {
     "slide_type": "slide"
    }
   },
   "source": [
    "7. **Escrita** de valores históricos"
   ]
  },
  {
   "cell_type": "code",
   "execution_count": null,
   "metadata": {
    "scrolled": false,
    "slideshow": {
     "slide_type": "subslide"
    }
   },
   "outputs": [],
   "source": []
  },
  {
   "cell_type": "markdown",
   "metadata": {
    "slideshow": {
     "slide_type": "slide"
    }
   },
   "source": [
    "8. **Escrita** de anotações"
   ]
  },
  {
   "cell_type": "markdown",
   "metadata": {
    "slideshow": {
     "slide_type": "slide"
    }
   },
   "source": [
    "9. **CRUD** (Create, Read, Update and Delete) de variáveis - não faz parte do escopo deste minicurso"
   ]
  },
  {
   "cell_type": "markdown",
   "metadata": {
    "slideshow": {
     "slide_type": "slide"
    }
   },
   "source": [
    "10. **Encerramento da Conexão** (=sessão) com um **EPM Server** (=servidor de dados)"
   ]
  },
  {
   "cell_type": "code",
   "execution_count": 3,
   "metadata": {
    "scrolled": false,
    "slideshow": {
     "slide_type": "subslide"
    }
   },
   "outputs": [],
   "source": [
    "# SEMPRE deve-se encerrar a conexão estabelecida com o EPM Server, pois isso irá encerrar a sessão e\n",
    "# liberar a licença de EPM Client para que outros, eventualmente, possam utilizá-la.\n",
    "epmConn.close()"
   ]
  },
  {
   "cell_type": "markdown",
   "metadata": {
    "slideshow": {
     "slide_type": "slide"
    }
   },
   "source": [
    "## _FIM dos exemplos ..._\n",
    "\n",
    "#### Retornar à apresentação"
   ]
  }
 ],
 "metadata": {
  "celltoolbar": "Slideshow",
  "kernelspec": {
   "display_name": "Python 3",
   "language": "python",
   "name": "python3"
  },
  "language_info": {
   "codemirror_mode": {
    "name": "ipython",
    "version": 3
   },
   "file_extension": ".py",
   "mimetype": "text/x-python",
   "name": "python",
   "nbconvert_exporter": "python",
   "pygments_lexer": "ipython3",
   "version": "3.7.3"
  }
 },
 "nbformat": 4,
 "nbformat_minor": 2
}
