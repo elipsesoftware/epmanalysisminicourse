{
 "cells": [
  {
   "cell_type": "markdown",
   "metadata": {
    "slideshow": {
     "slide_type": "slide"
    }
   },
   "source": [
    "# PYTHON - Primeiros passos..."
   ]
  },
  {
   "cell_type": "markdown",
   "metadata": {
    "slideshow": {
     "slide_type": "slide"
    }
   },
   "source": [
    "## Operações elementares"
   ]
  },
  {
   "cell_type": "code",
   "execution_count": null,
   "metadata": {
    "scrolled": true,
    "slideshow": {
     "slide_type": "subslide"
    }
   },
   "outputs": [],
   "source": [
    "print(2 + 3 - 1)\n",
    "print(5 * 5 / 2) # Notar divisão inteira! (nota: Python 3 não é mais assim!)\n",
    "print(5 * 5 / 2.0) # Notar divisão com valor float!\n",
    "print(3**2) # nota: outras linguagens costumam usar o acento circunflexo ^\n",
    "print( True * False)"
   ]
  },
  {
   "cell_type": "markdown",
   "metadata": {
    "slideshow": {
     "slide_type": "slide"
    }
   },
   "source": [
    "## Atribuição de valores"
   ]
  },
  {
   "cell_type": "code",
   "execution_count": null,
   "metadata": {
    "slideshow": {
     "slide_type": "subslide"
    }
   },
   "outputs": [],
   "source": [
    "a = 'PI' # tipo string - aspas simples ou dupla\n",
    "b = \"D\"\n",
    "c = a + b\n",
    "print(c) "
   ]
  },
  {
   "cell_type": "markdown",
   "metadata": {
    "collapsed": true,
    "slideshow": {
     "slide_type": "slide"
    }
   },
   "source": [
    "##     Estrutura de dados do tipo LISTA"
   ]
  },
  {
   "cell_type": "code",
   "execution_count": null,
   "metadata": {
    "slideshow": {
     "slide_type": "subslide"
    }
   },
   "outputs": [],
   "source": [
    "d = [23, 'palavra', 4.5, 3]\n",
    "print(type(d[0]))\n",
    "print(type(d[1]))\n",
    "print(type(d[2]))"
   ]
  },
  {
   "cell_type": "markdown",
   "metadata": {
    "slideshow": {
     "slide_type": "slide"
    }
   },
   "source": [
    "## Estrutura de dados do tipo TUPLA"
   ]
  },
  {
   "cell_type": "code",
   "execution_count": null,
   "metadata": {
    "slideshow": {
     "slide_type": "subslide"
    }
   },
   "outputs": [],
   "source": [
    "e = (21.1234, 22.1234, 23.1234, 24.1234)\n",
    "print('Valor na terceira posicao: {}'.format(e[2]))\n",
    "print('Valor na terceira posicao: {0:.2f} \\nValor na quarta: {1:.3f} '.format(e[2], e[3]))"
   ]
  },
  {
   "cell_type": "markdown",
   "metadata": {
    "slideshow": {
     "slide_type": "slide"
    }
   },
   "source": [
    "## Estrutura de dados do tipo DICIONÁRIO"
   ]
  },
  {
   "cell_type": "code",
   "execution_count": null,
   "metadata": {
    "slideshow": {
     "slide_type": "subslide"
    }
   },
   "outputs": [],
   "source": [
    "f = {'Cdef': 33, 'Abcd': 31, 'Bcde': 32}\n",
    "print('Chaves: {}'.format(f.keys()))\n",
    "print('Valores: {}'.format(f.values()))\n",
    "print('Valor de Bcde: {}'.format(f['Bcde']))"
   ]
  },
  {
   "cell_type": "markdown",
   "metadata": {
    "slideshow": {
     "slide_type": "slide"
    }
   },
   "source": [
    "## Tipo definido pelo usuário -  CLASSE"
   ]
  },
  {
   "cell_type": "code",
   "execution_count": null,
   "metadata": {
    "slideshow": {
     "slide_type": "subslide"
    }
   },
   "outputs": [],
   "source": [
    "# Definição da classe Quadrado\n",
    "class Quadrado:\n",
    "    \"\"\" Classe de formas poligonais.\n",
    "    Cria objetos do tipo quadrado, recebendo como argumento o lado do quadrado.\n",
    "    Função membro para cálculo da área.\n",
    "    \n",
    "    Argumentos:\n",
    "    tamanho -- comprimento do lado do quadrado (default 1.0)\n",
    "    \"\"\"\n",
    "    \n",
    "    lado = 0.0\n",
    "    def __init__(self, tamanho = 1.0):\n",
    "        self.lado = tamanho\n",
    "\n",
    "    def area(self):\n",
    "        return self.lado**2\n",
    "\n",
    "# solicitando o HELP da classe Quadrado\n",
    "help(Quadrado)\n",
    "# Criando um objeto do tipo Quadrado com lado igual a 3.5 u.m.\n",
    "g = Quadrado(3.5)\n",
    "# Executando o método do cálculo da área do quadrado\n",
    "print('Área do quadrado: {}'.format(g.area()))"
   ]
  },
  {
   "cell_type": "markdown",
   "metadata": {
    "slideshow": {
     "slide_type": "slide"
    }
   },
   "source": [
    "## Tipo datetime"
   ]
  },
  {
   "cell_type": "code",
   "execution_count": null,
   "metadata": {
    "slideshow": {
     "slide_type": "subslide"
    }
   },
   "outputs": [],
   "source": [
    "import datetime\n",
    "may1th2016 = datetime.datetime(2016, 5, 1) # a meia-noite\n",
    "today = datetime.datetime.today()\n",
    "delta = today - may1th2016\n",
    "print('Formatando saída: {:%d/%m/%Y %H:%M:%S}'.format(today))\n",
    "print('Diferença de \"agora\" e 1/5/16: {0} - {1} = {2}'.format(today, may1th2016, delta ) )"
   ]
  },
  {
   "cell_type": "markdown",
   "metadata": {
    "slideshow": {
     "slide_type": "slide"
    }
   },
   "source": [
    "## Estruturas de Controle"
   ]
  },
  {
   "cell_type": "code",
   "execution_count": null,
   "metadata": {
    "slideshow": {
     "slide_type": "subslide"
    }
   },
   "outputs": [],
   "source": [
    "# IF/ELIF/ELSE\n",
    "a = input('Digite um numero do intervalo [0, 5): ')\n",
    "ia = int(a)\n",
    "if ia < 0:\n",
    "    print(f'O número {a} é menor que zero!')\n",
    "elif ia >= 0 and ia < 5:\n",
    "    print(f'O número {a} pertence ao intervalo!')\n",
    "elif ia == 5:\n",
    "    print('Atenção: intervalo aberto em 5!')\n",
    "else:\n",
    "    print(f'O número {a} é maior que 5!')"
   ]
  },
  {
   "cell_type": "code",
   "execution_count": null,
   "metadata": {
    "slideshow": {
     "slide_type": "subslide"
    }
   },
   "outputs": [],
   "source": [
    "# FOR diretamente sobre uma lista\n",
    "lista1 = ['a', 'b', 'c', 'd']\n",
    "for letra in lista1:\n",
    "    print(letra)"
   ]
  },
  {
   "cell_type": "code",
   "execution_count": null,
   "metadata": {
    "slideshow": {
     "slide_type": "subslide"
    }
   },
   "outputs": [],
   "source": [
    "# FOR usando a função range para iterar sobre os índices da lista1\n",
    "for i in range(len(lista1)):\n",
    "    print ('Letra: {0}, posição: {1} '.format(lista1[i], i))"
   ]
  },
  {
   "cell_type": "code",
   "execution_count": null,
   "metadata": {
    "slideshow": {
     "slide_type": "subslide"
    }
   },
   "outputs": [],
   "source": [
    "# Criando uma lista usando o comando FOR\n",
    "lista2 = [letra for letra in 'fghij']\n",
    "print(lista2)\n",
    "type(lista2)"
   ]
  },
  {
   "cell_type": "code",
   "execution_count": null,
   "metadata": {
    "slideshow": {
     "slide_type": "subslide"
    }
   },
   "outputs": [],
   "source": [
    "# WHILE\n",
    "a = 1\n",
    "while a != 0:\n",
    "    ans = input('Digite 0 (zero) para encerrar: ')\n",
    "    a = int(ans)\n",
    "    if a == 999:\n",
    "        print ('Número mágico!\\nENCERRANDO... ')\n",
    "        break\n",
    "    if a == 0:\n",
    "         print ('Zero digitado - saindo...')\n",
    "    else:\n",
    "        print ('O número {a} é diferente de zero! ')"
   ]
  },
  {
   "cell_type": "markdown",
   "metadata": {
    "slideshow": {
     "slide_type": "slide"
    }
   },
   "source": [
    "## Visualizando o conteúdo da área de trabalho ou de Classes - comando DIR"
   ]
  },
  {
   "cell_type": "code",
   "execution_count": null,
   "metadata": {
    "slideshow": {
     "slide_type": "subslide"
    }
   },
   "outputs": [],
   "source": [
    "dir()"
   ]
  },
  {
   "cell_type": "code",
   "execution_count": null,
   "metadata": {
    "slideshow": {
     "slide_type": "subslide"
    }
   },
   "outputs": [],
   "source": [
    "dir(Quadrado)"
   ]
  },
  {
   "cell_type": "markdown",
   "metadata": {
    "slideshow": {
     "slide_type": "slide"
    }
   },
   "source": [
    "## Carregando Módulos\n",
    "\n",
    "* import Nome_Modulo  >> Nome_Modulo.funcao()\n",
    "* import Nome_Modulo as nm >> nm.funcao()\n",
    "* from Nome_Modulo import * >> funcao()\n",
    "* from Nome_Modulo import Nome_SubModulo >> Nome_SubModulo.funcao()"
   ]
  },
  {
   "cell_type": "code",
   "execution_count": null,
   "metadata": {
    "slideshow": {
     "slide_type": "subslide"
    }
   },
   "outputs": [],
   "source": [
    "# Carregando os módulos NUPY e MATPLOTLLIB\n",
    "%matplotlib inline\n",
    "import numpy as np\n",
    "import matplotlib.pyplot as plt"
   ]
  },
  {
   "cell_type": "code",
   "execution_count": null,
   "metadata": {
    "slideshow": {
     "slide_type": "subslide"
    }
   },
   "outputs": [],
   "source": [
    "# Exemplo da parábola\n",
    "plt.style.use('ggplot') # define o estilo visual dos gráficos\n",
    "x = np.arange(-10,11) # cria o vetor [-10, -9, ..., 9, 10]\n",
    "y = x**2 -5*x + 6 # avalia elemento a elemento do vetor segundo a eq. da parábola\n",
    "plt.plot(x,y) # cira um objeto de gráfico com o resultado\n",
    "plt.ylim((-5,160)) # define os limites dos eixos do objeto gráfico\n",
    "p = np.polynomial.Polynomial([6, -5, 1]) # cria um objeto POLINÔMIO do módulo NUMPY\n",
    "print('Raízes: {}'.format(p.roots())) # calcula as raízes do polinômio e mostra na saída da tela"
   ]
  },
  {
   "cell_type": "markdown",
   "metadata": {
    "slideshow": {
     "slide_type": "slide"
    }
   },
   "source": [
    "## _FIM dos exemplos ..._\n",
    "\n",
    "#### Retornar à apresentação"
   ]
  }
 ],
 "metadata": {
  "celltoolbar": "Slideshow",
  "kernelspec": {
   "display_name": "Python 3",
   "language": "python",
   "name": "python3"
  },
  "language_info": {
   "codemirror_mode": {
    "name": "ipython",
    "version": 3
   },
   "file_extension": ".py",
   "mimetype": "text/x-python",
   "name": "python",
   "nbconvert_exporter": "python",
   "pygments_lexer": "ipython3",
   "version": "3.7.3"
  }
 },
 "nbformat": 4,
 "nbformat_minor": 2
}
