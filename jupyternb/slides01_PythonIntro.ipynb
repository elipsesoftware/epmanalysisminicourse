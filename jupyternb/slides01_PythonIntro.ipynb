{
 "cells": [
  {
   "cell_type": "markdown",
   "metadata": {
    "slideshow": {
     "slide_type": "slide"
    }
   },
   "source": [
    "# PYTHON - Primeiros passos..."
   ]
  },
  {
   "cell_type": "markdown",
   "metadata": {
    "slideshow": {
     "slide_type": "slide"
    }
   },
   "source": [
    "## Operações elementares"
   ]
  },
  {
   "cell_type": "code",
   "execution_count": null,
   "metadata": {
    "scrolled": true,
    "slideshow": {
     "slide_type": "subslide"
    }
   },
   "outputs": [],
   "source": [
    "print(2 + 3 - 1)\n",
    "print(5 * 5 / 2) # Notar divisão inteira! (nota: Python 3 não é mais assim!)\n",
    "print(5 * 5 / 2.0) # Notar divisão com valor float!\n",
    "print(3**2) # nota: outras linguagens costumam usar o acento circunflexo ^\n",
    "print( True * False)"
   ]
  },
  {
   "cell_type": "markdown",
   "metadata": {
    "slideshow": {
     "slide_type": "slide"
    }
   },
   "source": [
    "## Atribuição de valores"
   ]
  },
  {
   "cell_type": "code",
   "execution_count": 17,
   "metadata": {
    "slideshow": {
     "slide_type": "subslide"
    }
   },
   "outputs": [
    {
     "name": "stdout",
     "output_type": "stream",
     "text": [
      "PID\n"
     ]
    }
   ],
   "source": [
    "a = 'PI' # tipo string - aspas simples ou dupla\n",
    "b = \"D\"\n",
    "c = a + b\n",
    "print(c) "
   ]
  },
  {
   "cell_type": "markdown",
   "metadata": {
    "collapsed": true,
    "slideshow": {
     "slide_type": "slide"
    }
   },
   "source": [
    "##     Estrutura de dados do tipo LISTA"
   ]
  },
  {
   "cell_type": "code",
   "execution_count": 18,
   "metadata": {
    "slideshow": {
     "slide_type": "subslide"
    }
   },
   "outputs": [
    {
     "name": "stdout",
     "output_type": "stream",
     "text": [
      "<class 'int'>\n",
      "<class 'str'>\n",
      "<class 'float'>\n"
     ]
    }
   ],
   "source": [
    "d = [23, 'palavra', 4.5, 3]\n",
    "print(type(d[0]))\n",
    "print(type(d[1]))\n",
    "print(type(d[2]))"
   ]
  },
  {
   "cell_type": "markdown",
   "metadata": {
    "slideshow": {
     "slide_type": "slide"
    }
   },
   "source": [
    "## Estrutura de dados do tipo TUPLA"
   ]
  },
  {
   "cell_type": "code",
   "execution_count": 19,
   "metadata": {
    "slideshow": {
     "slide_type": "subslide"
    }
   },
   "outputs": [
    {
     "name": "stdout",
     "output_type": "stream",
     "text": [
      "Valor na terceira posicao: 23.1234\n",
      "Valor na terceira posicao: 23.12 \n",
      "Valor na quarta: 24.123 \n"
     ]
    }
   ],
   "source": [
    "e = (21.1234, 22.1234, 23.1234, 24.1234)\n",
    "print('Valor na terceira posicao: {}'.format(e[2]))\n",
    "print('Valor na terceira posicao: {0:.2f} \\nValor na quarta: {1:.3f} '.format(e[2], e[3]))"
   ]
  },
  {
   "cell_type": "markdown",
   "metadata": {
    "slideshow": {
     "slide_type": "slide"
    }
   },
   "source": [
    "## Estrutura de dados do tipo DICIONÁRIO"
   ]
  },
  {
   "cell_type": "code",
   "execution_count": 20,
   "metadata": {
    "slideshow": {
     "slide_type": "subslide"
    }
   },
   "outputs": [
    {
     "name": "stdout",
     "output_type": "stream",
     "text": [
      "Chaves: dict_keys(['Cdef', 'Abcd', 'Bcde'])\n",
      "Valores: dict_values([33, 31, 32])\n",
      "Valor de Bcde: 32\n"
     ]
    }
   ],
   "source": [
    "f = {'Cdef': 33, 'Abcd': 31, 'Bcde': 32}\n",
    "print('Chaves: {}'.format(f.keys()))\n",
    "print('Valores: {}'.format(f.values()))\n",
    "print('Valor de Bcde: {}'.format(f['Bcde']))"
   ]
  },
  {
   "cell_type": "markdown",
   "metadata": {
    "slideshow": {
     "slide_type": "slide"
    }
   },
   "source": [
    "## Tipo definido pelo usuário -  CLASSE"
   ]
  },
  {
   "cell_type": "code",
   "execution_count": 21,
   "metadata": {
    "slideshow": {
     "slide_type": "subslide"
    }
   },
   "outputs": [
    {
     "name": "stdout",
     "output_type": "stream",
     "text": [
      "Help on class Quadrado in module __main__:\n",
      "\n",
      "class Quadrado(builtins.object)\n",
      " |  Quadrado(tamanho=1.0)\n",
      " |  \n",
      " |  Classe de formas poligonais.\n",
      " |  Cria objetos do tipo quadrado, recebendo como argumento o lado do quadrado.\n",
      " |  Função membro para cálculo da área.\n",
      " |  \n",
      " |  Argumentos:\n",
      " |  tamanho -- comprimento do lado do quadrado (default 1.0)\n",
      " |  \n",
      " |  Methods defined here:\n",
      " |  \n",
      " |  __init__(self, tamanho=1.0)\n",
      " |      Initialize self.  See help(type(self)) for accurate signature.\n",
      " |  \n",
      " |  area(self)\n",
      " |  \n",
      " |  ----------------------------------------------------------------------\n",
      " |  Data descriptors defined here:\n",
      " |  \n",
      " |  __dict__\n",
      " |      dictionary for instance variables (if defined)\n",
      " |  \n",
      " |  __weakref__\n",
      " |      list of weak references to the object (if defined)\n",
      " |  \n",
      " |  ----------------------------------------------------------------------\n",
      " |  Data and other attributes defined here:\n",
      " |  \n",
      " |  lado = 0.0\n",
      "\n",
      "Área do quadrado: 12.25\n"
     ]
    }
   ],
   "source": [
    "# Definição da classe Quadrado\n",
    "class Quadrado:\n",
    "    \"\"\" Classe de formas poligonais.\n",
    "    Cria objetos do tipo quadrado, recebendo como argumento o lado do quadrado.\n",
    "    Função membro para cálculo da área.\n",
    "    \n",
    "    Argumentos:\n",
    "    tamanho -- comprimento do lado do quadrado (default 1.0)\n",
    "    \"\"\"\n",
    "    \n",
    "    lado = 0.0\n",
    "    def __init__(self, tamanho = 1.0):\n",
    "        self.lado = tamanho\n",
    "\n",
    "    def area(self):\n",
    "        return self.lado**2\n",
    "\n",
    "# solicitando o HELP da classe Quadrado\n",
    "help(Quadrado)\n",
    "# Criando um objeto do tipo Quadrado com lado igual a 3.5 u.m.\n",
    "g = Quadrado(3.5)\n",
    "# Executando o método do cálculo da área do quadrado\n",
    "print('Área do quadrado: {}'.format(g.area()))"
   ]
  },
  {
   "cell_type": "markdown",
   "metadata": {
    "slideshow": {
     "slide_type": "slide"
    }
   },
   "source": [
    "## Tipo datetime"
   ]
  },
  {
   "cell_type": "code",
   "execution_count": 24,
   "metadata": {
    "slideshow": {
     "slide_type": "subslide"
    }
   },
   "outputs": [
    {
     "name": "stdout",
     "output_type": "stream",
     "text": [
      "Formatando saída: 24/07/2019 11:16:49\n",
      "Diferença de \"agora\" e 1/5/16: 2019-07-24 11:16:49.871242 - 2016-05-01 00:00:00 = 1179 days, 11:16:49.871242\n"
     ]
    }
   ],
   "source": [
    "import datetime\n",
    "may1th2016 = datetime.datetime(2016, 5, 1) # a meia-noite\n",
    "today = datetime.datetime.today()\n",
    "delta = today - may1th2016\n",
    "print('Formatando saída: {:%d/%m/%Y %H:%M:%S}'.format(today))\n",
    "print('Diferença de \"agora\" e 1/5/16: {0} - {1} = {2}'.format(today, may1th2016, delta ) )"
   ]
  },
  {
   "cell_type": "markdown",
   "metadata": {
    "slideshow": {
     "slide_type": "slide"
    }
   },
   "source": [
    "## Estruturas de Controle"
   ]
  },
  {
   "cell_type": "code",
   "execution_count": 25,
   "metadata": {
    "slideshow": {
     "slide_type": "subslide"
    }
   },
   "outputs": [
    {
     "name": "stdout",
     "output_type": "stream",
     "text": [
      "Digite um numero do intervalo [0, 5): 3\n",
      "O número 3 pertence ao intervalo!\n"
     ]
    }
   ],
   "source": [
    "# IF/ELIF/ELSE\n",
    "a = input('Digite um numero do intervalo [0, 5): ')\n",
    "ia = int(a)\n",
    "if ia < 0:\n",
    "    print('O número {0} é menor que zero!'.format(a))\n",
    "elif ia >= 0 and ia < 5:\n",
    "    print('O número {0} pertence ao intervalo!'.format(a))\n",
    "elif ia == 5:\n",
    "    print('Atenção: intervalo aberto em 5!')\n",
    "else:\n",
    "    print('O número {0} é maior que 5!'.format(a))"
   ]
  },
  {
   "cell_type": "code",
   "execution_count": 26,
   "metadata": {
    "slideshow": {
     "slide_type": "subslide"
    }
   },
   "outputs": [
    {
     "name": "stdout",
     "output_type": "stream",
     "text": [
      "a\n",
      "b\n",
      "c\n",
      "d\n"
     ]
    }
   ],
   "source": [
    "# FOR diretamente sobre uma lista\n",
    "lista1 = ['a', 'b', 'c', 'd']\n",
    "for letra in lista1:\n",
    "    print(letra)"
   ]
  },
  {
   "cell_type": "code",
   "execution_count": 27,
   "metadata": {
    "slideshow": {
     "slide_type": "subslide"
    }
   },
   "outputs": [
    {
     "name": "stdout",
     "output_type": "stream",
     "text": [
      "Letra: a, posição: 0 \n",
      "Letra: b, posição: 1 \n",
      "Letra: c, posição: 2 \n",
      "Letra: d, posição: 3 \n"
     ]
    }
   ],
   "source": [
    "# FOR usando a função range para iterar sobre os índices da lista1\n",
    "for i in range(len(lista1)):\n",
    "    print ('Letra: {0}, posição: {1} '.format(lista1[i], i))"
   ]
  },
  {
   "cell_type": "code",
   "execution_count": 28,
   "metadata": {
    "slideshow": {
     "slide_type": "subslide"
    }
   },
   "outputs": [
    {
     "name": "stdout",
     "output_type": "stream",
     "text": [
      "['f', 'g', 'h', 'i', 'j']\n"
     ]
    },
    {
     "data": {
      "text/plain": [
       "list"
      ]
     },
     "execution_count": 28,
     "metadata": {},
     "output_type": "execute_result"
    }
   ],
   "source": [
    "# Criando uma lista usando o comando FOR\n",
    "lista2 = [letra for letra in 'fghij']\n",
    "print(lista2)\n",
    "type(lista2)"
   ]
  },
  {
   "cell_type": "code",
   "execution_count": 29,
   "metadata": {
    "slideshow": {
     "slide_type": "subslide"
    }
   },
   "outputs": [
    {
     "name": "stdout",
     "output_type": "stream",
     "text": [
      "Digite 0 (zero) para encerrar: 999\n",
      "Número mágico!\n",
      "ENCERRANDO... \n"
     ]
    }
   ],
   "source": [
    "# WHILE\n",
    "a = 1\n",
    "while a != 0:\n",
    "    ans = input('Digite 0 (zero) para encerrar: ')\n",
    "    a = int(ans)\n",
    "    if a == 999:\n",
    "        print ('Número mágico!\\nENCERRANDO... ')\n",
    "        break\n",
    "    if a == 0:\n",
    "         print ('Zero digitado - saindo...')\n",
    "    else:\n",
    "        print ('O número {0} é diferente de zero! '.format(a))"
   ]
  },
  {
   "cell_type": "markdown",
   "metadata": {
    "slideshow": {
     "slide_type": "slide"
    }
   },
   "source": [
    "## Visualizando o conteúdo da área de trabalho ou de Classes - comando DIR"
   ]
  },
  {
   "cell_type": "code",
   "execution_count": 30,
   "metadata": {
    "slideshow": {
     "slide_type": "subslide"
    }
   },
   "outputs": [
    {
     "data": {
      "text/plain": [
       "['In',\n",
       " 'Out',\n",
       " 'Quadrado',\n",
       " '_',\n",
       " '_12',\n",
       " '_14',\n",
       " '_15',\n",
       " '_16',\n",
       " '_28',\n",
       " '__',\n",
       " '___',\n",
       " '__builtin__',\n",
       " '__builtins__',\n",
       " '__doc__',\n",
       " '__loader__',\n",
       " '__name__',\n",
       " '__package__',\n",
       " '__spec__',\n",
       " '_dh',\n",
       " '_i',\n",
       " '_i1',\n",
       " '_i10',\n",
       " '_i11',\n",
       " '_i12',\n",
       " '_i13',\n",
       " '_i14',\n",
       " '_i15',\n",
       " '_i16',\n",
       " '_i17',\n",
       " '_i18',\n",
       " '_i19',\n",
       " '_i2',\n",
       " '_i20',\n",
       " '_i21',\n",
       " '_i22',\n",
       " '_i23',\n",
       " '_i24',\n",
       " '_i25',\n",
       " '_i26',\n",
       " '_i27',\n",
       " '_i28',\n",
       " '_i29',\n",
       " '_i3',\n",
       " '_i30',\n",
       " '_i4',\n",
       " '_i5',\n",
       " '_i6',\n",
       " '_i7',\n",
       " '_i8',\n",
       " '_i9',\n",
       " '_ih',\n",
       " '_ii',\n",
       " '_iii',\n",
       " '_oh',\n",
       " 'a',\n",
       " 'ans',\n",
       " 'b',\n",
       " 'c',\n",
       " 'd',\n",
       " 'datetime',\n",
       " 'delta',\n",
       " 'e',\n",
       " 'exit',\n",
       " 'f',\n",
       " 'g',\n",
       " 'get_ipython',\n",
       " 'i',\n",
       " 'ia',\n",
       " 'letra',\n",
       " 'lista1',\n",
       " 'lista2',\n",
       " 'may1th2016',\n",
       " 'quit',\n",
       " 'today']"
      ]
     },
     "execution_count": 30,
     "metadata": {},
     "output_type": "execute_result"
    }
   ],
   "source": [
    "dir()"
   ]
  },
  {
   "cell_type": "code",
   "execution_count": 31,
   "metadata": {
    "slideshow": {
     "slide_type": "subslide"
    }
   },
   "outputs": [
    {
     "data": {
      "text/plain": [
       "['__class__',\n",
       " '__delattr__',\n",
       " '__dict__',\n",
       " '__dir__',\n",
       " '__doc__',\n",
       " '__eq__',\n",
       " '__format__',\n",
       " '__ge__',\n",
       " '__getattribute__',\n",
       " '__gt__',\n",
       " '__hash__',\n",
       " '__init__',\n",
       " '__init_subclass__',\n",
       " '__le__',\n",
       " '__lt__',\n",
       " '__module__',\n",
       " '__ne__',\n",
       " '__new__',\n",
       " '__reduce__',\n",
       " '__reduce_ex__',\n",
       " '__repr__',\n",
       " '__setattr__',\n",
       " '__sizeof__',\n",
       " '__str__',\n",
       " '__subclasshook__',\n",
       " '__weakref__',\n",
       " 'area',\n",
       " 'lado']"
      ]
     },
     "execution_count": 31,
     "metadata": {},
     "output_type": "execute_result"
    }
   ],
   "source": [
    "dir(Quadrado)"
   ]
  },
  {
   "cell_type": "markdown",
   "metadata": {
    "slideshow": {
     "slide_type": "slide"
    }
   },
   "source": [
    "## Carregando Módulos\n",
    "\n",
    "* import Nome_Modulo  >> Nome_Modulo.funcao()\n",
    "* import Nome_Modulo as nm >> nm.funcao()\n",
    "* from Nome_Modulo import * >> funcao()\n",
    "* from Nome_Modulo import Nome_SubModulo >> Nome_SubModulo.funcao()"
   ]
  },
  {
   "cell_type": "code",
   "execution_count": 32,
   "metadata": {
    "slideshow": {
     "slide_type": "subslide"
    }
   },
   "outputs": [],
   "source": [
    "# Carregando os módulos NUPY e MATPLOTLLIB\n",
    "%matplotlib inline\n",
    "import numpy as np\n",
    "import matplotlib.pyplot as plt"
   ]
  },
  {
   "cell_type": "code",
   "execution_count": null,
   "metadata": {
    "slideshow": {
     "slide_type": "subslide"
    }
   },
   "outputs": [],
   "source": [
    "# Exemplo da parábola\n",
    "plt.style.use('ggplot') # define o estilo visual dos gráficos\n",
    "x = np.arange(-10,11) # cria o vetor [-10, -9, ..., 9, 10]\n",
    "y = x**2 -5*x + 6 # avalia elemento a elemento do vetor segundo a eq. da parábola\n",
    "plt.plot(x,y) # cira um objeto de gráfico com o resultado\n",
    "plt.ylim((-5,160)) # define os limites dos eixos do objeto gráfico\n",
    "p = np.polynomial.Polynomial([6, -5, 1]) # cria um objeto POLINÔMIO do módulo NUMPY\n",
    "print('Raízes: {}'.format(p.roots())) # calcula as raízes do polinômio e mostra na saída da tela"
   ]
  },
  {
   "cell_type": "markdown",
   "metadata": {
    "slideshow": {
     "slide_type": "slide"
    }
   },
   "source": [
    "## _FIM dos exemplos ..._\n",
    "\n",
    "#### Retornar à apresentação"
   ]
  }
 ],
 "metadata": {
  "celltoolbar": "Slideshow",
  "kernelspec": {
   "display_name": "Python 3",
   "language": "python",
   "name": "python3"
  },
  "language_info": {
   "codemirror_mode": {
    "name": "ipython",
    "version": 3
   },
   "file_extension": ".py",
   "mimetype": "text/x-python",
   "name": "python",
   "nbconvert_exporter": "python",
   "pygments_lexer": "ipython3",
   "version": "3.7.3"
  }
 },
 "nbformat": 4,
 "nbformat_minor": 2
}
